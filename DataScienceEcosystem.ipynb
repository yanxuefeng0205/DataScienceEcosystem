{
 "cells": [
  {
   "cell_type": "markdown",
   "id": "25dd3279-d151-431b-bec1-a997a9f6d21b",
   "metadata": {},
   "source": [
    "# Data Science Tools and Ecosystem"
   ]
  },
  {
   "cell_type": "markdown",
   "id": "80ee7e4b-b1f4-4025-86b5-d71b3dad36bd",
   "metadata": {},
   "source": [
    "In this notebook, Data Science Tools and Ecosystem are summarized."
   ]
  },
  {
   "cell_type": "markdown",
   "id": "49c5cc10-cf23-4621-a18d-256b96578a95",
   "metadata": {},
   "source": [
    "**Objectives:**\n",
    "- List popular languages for Data Science.\n",
    "- List comonly used libraries for Data Science.\n",
    "- Introduce tools used in Data Science.\n",
    "- Perform simple arithmetic operations in Python."
   ]
  },
  {
   "cell_type": "markdown",
   "id": "217e71fe-6941-4434-9d90-c5de45274d8b",
   "metadata": {},
   "source": [
    "Some of the popular languages that Data Scientists use are:\n",
    "1. Python\n",
    "2. R\n",
    "3. C++"
   ]
  },
  {
   "cell_type": "markdown",
   "id": "6a8e19df-c90f-4b48-80f9-b44740096d31",
   "metadata": {},
   "source": [
    "Some of the commonly used libraries used by Data Scientists include:\n",
    "1. Pandas\n",
    "2. NumPy\n",
    "3. Scikit-learn"
   ]
  },
  {
   "cell_type": "markdown",
   "id": "808e6f62-c1b8-4f6c-9913-1172c2cc70ba",
   "metadata": {},
   "source": [
    "|Data Science Tools|\n",
    "|:-------:|\n",
    "|Jupyter Notebook|\n",
    "|RStudio|\n",
    "|Apache Spark|"
   ]
  },
  {
   "cell_type": "markdown",
   "id": "4c64fd6d-d58a-4a6c-afba-41822bb1d0e9",
   "metadata": {},
   "source": [
    "### Below are a few examples of evaluating arithmetic expression in Python"
   ]
  },
  {
   "cell_type": "code",
   "execution_count": 6,
   "id": "5875d03c-97fe-4c8f-90c8-4036cb77536a",
   "metadata": {},
   "outputs": [
    {
     "data": {
      "text/plain": [
       "17"
      ]
     },
     "execution_count": 6,
     "metadata": {},
     "output_type": "execute_result"
    }
   ],
   "source": [
    "# This a simple arithmetic expression to multiply then add integers\n",
    "(3*4)+5"
   ]
  },
  {
   "cell_type": "code",
   "execution_count": 14,
   "id": "b8fc674a-e193-4c45-8424-18268d342093",
   "metadata": {},
   "outputs": [
    {
     "name": "stdout",
     "output_type": "stream",
     "text": [
      "3.33 hours\n"
     ]
    }
   ],
   "source": [
    "# This will convert 200 minutes to hours by diving by 60\n",
    "x = 200 # minutes\n",
    "y = x/60 # converting to hours\n",
    "print(round(y,2), \"hours\")"
   ]
  },
  {
   "cell_type": "markdown",
   "id": "c3d575f0-4795-440a-96a8-3d17e75d0cfc",
   "metadata": {},
   "source": [
    "## Author\n",
    "Xuefeng Yan"
   ]
  },
  {
   "cell_type": "code",
   "execution_count": null,
   "id": "4cbb0e6b-b9be-41cc-82f9-327e38bbed62",
   "metadata": {},
   "outputs": [],
   "source": []
  }
 ],
 "metadata": {
  "kernelspec": {
   "display_name": "Python 3 (ipykernel)",
   "language": "python",
   "name": "python3"
  },
  "language_info": {
   "codemirror_mode": {
    "name": "ipython",
    "version": 3
   },
   "file_extension": ".py",
   "mimetype": "text/x-python",
   "name": "python",
   "nbconvert_exporter": "python",
   "pygments_lexer": "ipython3",
   "version": "3.13.2"
  }
 },
 "nbformat": 4,
 "nbformat_minor": 5
}
